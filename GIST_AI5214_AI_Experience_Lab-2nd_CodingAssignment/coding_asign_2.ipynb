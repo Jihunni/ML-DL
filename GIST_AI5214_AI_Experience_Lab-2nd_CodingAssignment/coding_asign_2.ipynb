{
 "cells": [
  {
   "cell_type": "markdown",
   "id": "54e73cee-3a2d-485e-82d1-9d607c38f09c",
   "metadata": {},
   "source": [
    "# load modules"
   ]
  },
  {
   "cell_type": "code",
   "execution_count": 385,
   "id": "25763c5c-e584-4853-93e3-46e6ffe54864",
   "metadata": {},
   "outputs": [
    {
     "name": "stdout",
     "output_type": "stream",
     "text": [
      "Sun Dec 19 04:32:52 2021       \n",
      "+-----------------------------------------------------------------------------+\n",
      "| NVIDIA-SMI 495.44       Driver Version: 495.44       CUDA Version: 11.5     |\n",
      "|-------------------------------+----------------------+----------------------+\n",
      "| GPU  Name        Persistence-M| Bus-Id        Disp.A | Volatile Uncorr. ECC |\n",
      "| Fan  Temp  Perf  Pwr:Usage/Cap|         Memory-Usage | GPU-Util  Compute M. |\n",
      "|                               |                      |               MIG M. |\n",
      "|===============================+======================+======================|\n",
      "|   0  NVIDIA GeForce ...  Off  | 00000000:D8:00.0 Off |                  N/A |\n",
      "| 45%   21C    P8    11W / 350W |   3607MiB / 24268MiB |      0%      Default |\n",
      "|                               |                      |                  N/A |\n",
      "+-------------------------------+----------------------+----------------------+\n",
      "                                                                               \n",
      "+-----------------------------------------------------------------------------+\n",
      "| Processes:                                                                  |\n",
      "|  GPU   GI   CI        PID   Type   Process name                  GPU Memory |\n",
      "|        ID   ID                                                   Usage      |\n",
      "|=============================================================================|\n",
      "|    0   N/A  N/A     63020      C   ...3/envs/pytorch/bin/python     3605MiB |\n",
      "+-----------------------------------------------------------------------------+\n"
     ]
    }
   ],
   "source": [
    "gpu_info = !nvidia-smi\n",
    "gpu_info = '\\n'.join(gpu_info)\n",
    "if gpu_info.find('failed') >= 0:\n",
    "  print('Not connected to a GPU')\n",
    "else:\n",
    "  print(gpu_info)"
   ]
  },
  {
   "cell_type": "code",
   "execution_count": 386,
   "id": "a3d1ea94-f4f4-4406-a355-3b94bc0996fd",
   "metadata": {},
   "outputs": [
    {
     "name": "stdout",
     "output_type": "stream",
     "text": [
      "PyTorch has version 1.10.0\n",
      "cuda\n"
     ]
    }
   ],
   "source": [
    "import pandas as pd\n",
    "import numpy as np\n",
    "import torch\n",
    "\n",
    "print(\"PyTorch has version {}\".format(torch.__version__))\n",
    "device = torch.device('cuda' if torch.cuda.is_available() else 'cpu')\n",
    "print(device)"
   ]
  },
  {
   "cell_type": "code",
   "execution_count": 387,
   "id": "950a6d89-903b-41cf-9f70-fe15c47c97bc",
   "metadata": {},
   "outputs": [
    {
     "name": "stdout",
     "output_type": "stream",
     "text": [
      "/bin/bash: nvcc: command not found\n"
     ]
    }
   ],
   "source": [
    "!nvcc --version"
   ]
  },
  {
   "cell_type": "markdown",
   "id": "ec984e73-65b4-4410-9db6-449d9244899e",
   "metadata": {},
   "source": [
    "# load dataset"
   ]
  },
  {
   "cell_type": "code",
   "execution_count": 388,
   "id": "a0c6168d-ff28-461b-ad15-b70e37d25b48",
   "metadata": {},
   "outputs": [
    {
     "name": "stdout",
     "output_type": "stream",
     "text": [
      "/home/jihun/python\n"
     ]
    }
   ],
   "source": [
    "! pwd"
   ]
  },
  {
   "cell_type": "code",
   "execution_count": 389,
   "id": "a0f4d8a4-979d-48e1-bf60-ec3a64ef0cdf",
   "metadata": {},
   "outputs": [],
   "source": [
    "# to make a training dataframe that 'positive' is labeled as 1 and 'negative' as 0\n",
    "# initialize a training dataframe\n",
    "column_names = ['sentence', 'label']\n",
    "train_df = pd.DataFrame(columns = column_names)\n",
    "\n",
    "import os\n",
    "for dirname, _, filenames in os.walk('/home/jihun/python/data_nlp/train/positive'):\n",
    "    for filename in filenames:\n",
    "        path = os.path.join(dirname, filename)\n",
    "        f = open(path, 'r')\n",
    "        line = f.readline()\n",
    "        input_df = pd.DataFrame.from_dict([{'sentence': line, 'label': 1 }])\n",
    "        train_df = pd.concat([train_df, input_df], axis=0)\n",
    "        f.close\n",
    "        \n",
    "for dirname, _, filenames in os.walk('/home/jihun/python/data_nlp/train/negative'):\n",
    "    for filename in filenames:\n",
    "        path = os.path.join(dirname, filename)\n",
    "        f = open(path, 'r')\n",
    "        line = f.readline()\n",
    "        input_df = pd.DataFrame.from_dict([{'sentence': line, 'label': 0 }])\n",
    "        train_df = pd.concat([train_df, input_df], axis=0)\n",
    "        len(train_df)\n",
    "        f.close\n",
    "train_df.index = [k for k in range(2000)]"
   ]
  },
  {
   "cell_type": "code",
   "execution_count": 390,
   "id": "1cc39189-8aba-460a-aa7b-7250d39bd1f5",
   "metadata": {},
   "outputs": [],
   "source": [
    "# to make a training dataframe that 'positive' is labeled as 1 and 'negative' as 0\n",
    "# initialize a training dataframe\n",
    "column_names = ['sentence']\n",
    "test_df = pd.DataFrame(columns = column_names)\n",
    "\n",
    "import os\n",
    "for dirname, _, filenames in os.walk('data_nlp/test'):\n",
    "    for filename in filenames:\n",
    "        path = os.path.join(dirname, filename)\n",
    "        f = open(path, 'r')\n",
    "        line = f.readline()\n",
    "        input_df = pd.DataFrame.from_dict([{'sentence': line}])\n",
    "        test_df = pd.concat([test_df, input_df], axis=0)\n",
    "        f.close\n",
    "test_df.index = [k for k in range(len(test_df))]"
   ]
  },
  {
   "cell_type": "code",
   "execution_count": 391,
   "id": "1a0dffd9-5fb9-4611-be74-6bd330fcabf2",
   "metadata": {},
   "outputs": [
    {
     "name": "stdout",
     "output_type": "stream",
     "text": [
      "the total number of examples :  2000\n",
      "the total number of positive examples :  1000\n",
      "the total number of negative examples :  1000\n",
      "the ratio of positive examples to negative examples :  1.0\n"
     ]
    }
   ],
   "source": [
    "print(\"the total number of examples : \", len(train_df))\n",
    "print(\"the total number of positive examples : \", len(train_df[train_df['label']==1]))\n",
    "print(\"the total number of negative examples : \", len(train_df[train_df['label']==0]))\n",
    "print(\"the ratio of positive examples to negative examples : \", len(train_df[train_df['label']==1])/len(train_df[train_df['label']==0]))"
   ]
  },
  {
   "cell_type": "code",
   "execution_count": 392,
   "id": "ff75ad56-4a13-464f-8197-644f593f9f37",
   "metadata": {},
   "outputs": [
    {
     "name": "stdout",
     "output_type": "stream",
     "text": [
      "Total number of the words: \n",
      "0       194\n",
      "1        44\n",
      "2       185\n",
      "3        38\n",
      "4       189\n",
      "       ... \n",
      "1995    177\n",
      "1996     47\n",
      "1997     99\n",
      "1998    126\n",
      "1999     98\n",
      "Name: sentence, Length: 2000, dtype: int64\n",
      "\n",
      "The average number of the words: \n",
      "187.677\n",
      "\n",
      "The max number of the words: \n",
      "3816\n"
     ]
    }
   ],
   "source": [
    "# total number of the words\n",
    "print(\"Total number of the words: \")\n",
    "print(train_df['sentence'].apply(lambda x: len(x.split(' '))))\n",
    "\n",
    "# the average length of a document\n",
    "print(\"\\nThe average number of the words: \")\n",
    "print(train_df['sentence'].apply(lambda x: len(x.split(' '))).mean())\n",
    "\n",
    "# the max length of a document\n",
    "print(\"\\nThe max number of the words: \")\n",
    "print(train_df['sentence'].apply(lambda x: len(x.split(' '))).max())"
   ]
  },
  {
   "cell_type": "code",
   "execution_count": 393,
   "id": "5183a94d-81fb-438c-8b20-9e2be4bd7a4e",
   "metadata": {},
   "outputs": [
    {
     "name": "stdout",
     "output_type": "stream",
     "text": [
      "0       greatest spy thriller this is the true account...\n",
      "1       rick steves books are the best i love the way ...\n",
      "2       fascinating as a geography and history buff , ...\n",
      "3       plymoth we were very pleased with our books . ...\n",
      "4       is it reality or a blend of reality and fantas...\n",
      "                              ...                        \n",
      "1995    dumb this is one of the stupidest books i have...\n",
      "1996    buyer beware after reading this dull uninforma...\n",
      "1997    not worth the money this book is only low to m...\n",
      "1998    a step back i have been reading this book for ...\n",
      "1999    the missing element an excellent and important...\n",
      "Length: 2000, dtype: object\n",
      "<class 'pandas.core.series.Series'>\n"
     ]
    }
   ],
   "source": [
    "print(train_df['sentence'].apply(pd.Series).stack().reset_index(drop=True))\n",
    "print(type(train_df['sentence'].apply(pd.Series).stack().reset_index(drop=True)))"
   ]
  },
  {
   "cell_type": "code",
   "execution_count": 394,
   "id": "b57711ee-22e5-49db-9d3f-e76f0a15420e",
   "metadata": {},
   "outputs": [
    {
     "data": {
      "text/plain": [
       "24473"
      ]
     },
     "execution_count": 394,
     "metadata": {},
     "output_type": "execute_result"
    }
   ],
   "source": [
    "# the total number of unique words in T\n",
    "len(list(set(' '.join(train_df['sentence']).split(' '))))"
   ]
  },
  {
   "cell_type": "code",
   "execution_count": 395,
   "id": "0d1577f8-f2b1-476d-a63e-92c8cefcacbc",
   "metadata": {},
   "outputs": [
    {
     "name": "stdout",
     "output_type": "stream",
     "text": [
      "0       [greatest, spy, thriller, this, is, the, true,...\n",
      "1       [rick, steves, books, are, the, best, i, love,...\n",
      "2       [fascinating, as, a, geography, and, history, ...\n",
      "3       [plymoth, we, were, very, pleased, with, our, ...\n",
      "4       [is, it, reality, or, a, blend, of, reality, a...\n",
      "                              ...                        \n",
      "1995    [dumb, this, is, one, of, the, stupidest, book...\n",
      "1996    [buyer, beware, after, reading, this, dull, un...\n",
      "1997    [not, worth, the, money, this, book, is, only,...\n",
      "1998    [a, step, back, i, have, been, reading, this, ...\n",
      "1999    [the, missing, element, an, excellent, and, im...\n",
      "Name: sentence, Length: 2000, dtype: object\n",
      "<class 'type'>\n"
     ]
    }
   ],
   "source": [
    "train_df_word = train_df['sentence'].apply(lambda x:x.split(' '))\n",
    "print(train_df_word)\n",
    "print(type(type(train_df_word)))\n",
    "\n",
    "test_df_word = test_df['sentence'].apply(lambda x:x.split(' '))"
   ]
  },
  {
   "cell_type": "markdown",
   "id": "7fa04d61-ed1f-4c12-bc5d-61d521653cb6",
   "metadata": {},
   "source": [
    "Padding"
   ]
  },
  {
   "cell_type": "code",
   "execution_count": 396,
   "id": "c1bdddfb-392e-41aa-b65e-4072a7405c2a",
   "metadata": {},
   "outputs": [],
   "source": [
    "def add_padding(token_ls, max_len):\n",
    "    for index, tokens in enumerate(token_ls):\n",
    "        n_token = len(tokens)\n",
    "        pad = '<PAD>'\n",
    "        # add padding if the length is shorter than max_len\n",
    "        if n_token < max_len:\n",
    "            token_ls[index] += [pad] * (max_len - n_token) # 부족한 만큼 padding을 추가함\n",
    "        \n",
    "        # if a sentence is longer than max_len, cut a sentence.\n",
    "        elif n_token > max_len:\n",
    "            token_ls[index] = tokens[:max_len]\n",
    "    return token_ls"
   ]
  },
  {
   "cell_type": "code",
   "execution_count": 397,
   "id": "60971f66-7c25-4dc7-81fb-7a45f7693842",
   "metadata": {},
   "outputs": [
    {
     "name": "stdout",
     "output_type": "stream",
     "text": [
      "                                               sentence label\n",
      "0     [greatest, spy, thriller, this, is, the, true,...     1\n",
      "1     [rick, steves, books, are, the, best, i, love,...     1\n",
      "2     [fascinating, as, a, geography, and, history, ...     1\n",
      "3     [plymoth, we, were, very, pleased, with, our, ...     1\n",
      "4     [is, it, reality, or, a, blend, of, reality, a...     1\n",
      "...                                                 ...   ...\n",
      "1995  [dumb, this, is, one, of, the, stupidest, book...     0\n",
      "1996  [buyer, beware, after, reading, this, dull, un...     0\n",
      "1997  [not, worth, the, money, this, book, is, only,...     0\n",
      "1998  [a, step, back, i, have, been, reading, this, ...     0\n",
      "1999  [the, missing, element, an, excellent, and, im...     0\n",
      "\n",
      "[2000 rows x 2 columns]\n"
     ]
    },
    {
     "data": {
      "text/html": [
       "<div>\n",
       "<style scoped>\n",
       "    .dataframe tbody tr th:only-of-type {\n",
       "        vertical-align: middle;\n",
       "    }\n",
       "\n",
       "    .dataframe tbody tr th {\n",
       "        vertical-align: top;\n",
       "    }\n",
       "\n",
       "    .dataframe thead th {\n",
       "        text-align: right;\n",
       "    }\n",
       "</style>\n",
       "<table border=\"1\" class=\"dataframe\">\n",
       "  <thead>\n",
       "    <tr style=\"text-align: right;\">\n",
       "      <th></th>\n",
       "      <th>sentence</th>\n",
       "    </tr>\n",
       "  </thead>\n",
       "  <tbody>\n",
       "    <tr>\n",
       "      <th>0</th>\n",
       "      <td>[good, history, ,, but, ..., ..., ., no, doubt...</td>\n",
       "    </tr>\n",
       "    <tr>\n",
       "      <th>1</th>\n",
       "      <td>[i, completely, agree, i, completely, agree, ,...</td>\n",
       "    </tr>\n",
       "    <tr>\n",
       "      <th>2</th>\n",
       "      <td>[vsm, for, the, office, i, found, this, to, be...</td>\n",
       "    </tr>\n",
       "    <tr>\n",
       "      <th>3</th>\n",
       "      <td>[could, n't, finish, it, ., i, first, read, cl...</td>\n",
       "    </tr>\n",
       "    <tr>\n",
       "      <th>4</th>\n",
       "      <td>[dutch, oven, use, and, care, ,, plus, varied,...</td>\n",
       "    </tr>\n",
       "    <tr>\n",
       "      <th>...</th>\n",
       "      <td>...</td>\n",
       "    </tr>\n",
       "    <tr>\n",
       "      <th>1995</th>\n",
       "      <td>[a, good, book, is, hard, to, find, i, picked,...</td>\n",
       "    </tr>\n",
       "    <tr>\n",
       "      <th>1996</th>\n",
       "      <td>[a, classical, if, a, bit, dated, primer, on, ...</td>\n",
       "    </tr>\n",
       "    <tr>\n",
       "      <th>1997</th>\n",
       "      <td>[return, of, charles, johnson, mr., gilkerson,...</td>\n",
       "    </tr>\n",
       "    <tr>\n",
       "      <th>1998</th>\n",
       "      <td>[look, for, teach, yourself, catalan, in, rece...</td>\n",
       "    </tr>\n",
       "    <tr>\n",
       "      <th>1999</th>\n",
       "      <td>[not, the, ``, building, web-site, guide, '', ...</td>\n",
       "    </tr>\n",
       "  </tbody>\n",
       "</table>\n",
       "<p>2000 rows × 1 columns</p>\n",
       "</div>"
      ],
      "text/plain": [
       "                                               sentence\n",
       "0     [good, history, ,, but, ..., ..., ., no, doubt...\n",
       "1     [i, completely, agree, i, completely, agree, ,...\n",
       "2     [vsm, for, the, office, i, found, this, to, be...\n",
       "3     [could, n't, finish, it, ., i, first, read, cl...\n",
       "4     [dutch, oven, use, and, care, ,, plus, varied,...\n",
       "...                                                 ...\n",
       "1995  [a, good, book, is, hard, to, find, i, picked,...\n",
       "1996  [a, classical, if, a, bit, dated, primer, on, ...\n",
       "1997  [return, of, charles, johnson, mr., gilkerson,...\n",
       "1998  [look, for, teach, yourself, catalan, in, rece...\n",
       "1999  [not, the, ``, building, web-site, guide, '', ...\n",
       "\n",
       "[2000 rows x 1 columns]"
      ]
     },
     "execution_count": 397,
     "metadata": {},
     "output_type": "execute_result"
    }
   ],
   "source": [
    "train_df_input = train_df.copy()\n",
    "max_length = 1000\n",
    "train_df_input['sentence'] = add_padding(train_df_word, max_length)\n",
    "print(train_df_input)\n",
    "\n",
    "test_df_input = test_df.copy()\n",
    "test_df_input['sentence'] = add_padding(test_df_word, max_length)\n",
    "test_df_input"
   ]
  },
  {
   "cell_type": "markdown",
   "id": "76faa702-bda2-4c3e-ae59-70b8f96a95e6",
   "metadata": {},
   "source": [
    "Pre-training"
   ]
  },
  {
   "cell_type": "code",
   "execution_count": 398,
   "id": "e9077153-4067-44d2-94cf-efdb9f666d48",
   "metadata": {},
   "outputs": [
    {
     "name": "stdout",
     "output_type": "stream",
     "text": [
      "Found 56050 word vectors.\n",
      "<class 'dict'>\n"
     ]
    }
   ],
   "source": [
    "# to read pre-training file\n",
    "file_path = os.path.join(\"data_nlp/all.review.vec.txt\")\n",
    "\n",
    "word_to_ix = {}\n",
    "embedding_dictionary = {}\n",
    "with open(file_path) as file:\n",
    "    for index, line in enumerate(file):\n",
    "        word, coefficient = line.split(maxsplit=1)\n",
    "        coefficient = np.fromstring(coefficient, \"f\", sep=\" \")\n",
    "        word_to_ix[word] = index+2\n",
    "        embedding_dictionary[word] = coefficient\n",
    "word_to_ix['<unk>']= 0\n",
    "word_to_ix['<pad>']= 1\n",
    "        \n",
    "embedding_dictionary.pop('56050') # remove the hdeader\n",
    "print(\"Found %s word vectors.\" % len(embedding_dictionary))\n",
    "print(type(embedding_dictionary))"
   ]
  },
  {
   "cell_type": "code",
   "execution_count": 399,
   "id": "53894c0a-3171-4ec6-ac6e-2e11947f6a84",
   "metadata": {},
   "outputs": [
    {
     "name": "stdout",
     "output_type": "stream",
     "text": [
      "(56050, 100)\n"
     ]
    }
   ],
   "source": [
    "# to convert the data type of embedding_matrix (dictionary) into numpy array\n",
    "#embedding_matrix = np.array(list(map(lambda x: x.split(' '), list(embedding_dictionary.values())))) # parsing the 1-dimensioal array into 2-dimensional array\n",
    "#embedding_matrix = embedding_matrix[:,:-1] #drop the '\\n'\n",
    "#embedding_matrix = embedding_matrix.astype('float32')\n",
    "embedding_matrix = np.array(list(embedding_dictionary.values()))\n",
    "print(embedding_matrix.shape)"
   ]
  },
  {
   "cell_type": "code",
   "execution_count": 400,
   "id": "78fb0488-522e-491a-9908-c137b00bb315",
   "metadata": {},
   "outputs": [
    {
     "data": {
      "text/plain": [
       "[5, 570, 0]"
      ]
     },
     "execution_count": 400,
     "metadata": {},
     "output_type": "execute_result"
    }
   ],
   "source": [
    "def sequence_to_index(sequence, embedding_index):\n",
    "    converted_index = [embedding_index[word] if word in embedding_index.keys() else embedding_index['<unk>'] for word in sequence]\n",
    "    return converted_index\n",
    "    #return torch.tensor(converted_index, dtype=torch.long)\n",
    "\n",
    "#example\n",
    "sequence_to_index([',', 'king', 'strainge_wrod_hahahahaha'], word_to_ix)"
   ]
  },
  {
   "cell_type": "code",
   "execution_count": 401,
   "id": "5ef3b1f3-b4dc-4214-a089-3c6978f8bd68",
   "metadata": {},
   "outputs": [
    {
     "data": {
      "text/plain": [
       "Int64Index([   0,    1,    2,    3,    4,    5,    6,    7,    8,    9,\n",
       "            ...\n",
       "            1990, 1991, 1992, 1993, 1994, 1995, 1996, 1997, 1998, 1999],\n",
       "           dtype='int64', length=2000)"
      ]
     },
     "execution_count": 401,
     "metadata": {},
     "output_type": "execute_result"
    }
   ],
   "source": [
    "test_df_input.index"
   ]
  },
  {
   "cell_type": "code",
   "execution_count": 402,
   "id": "fb032a2d-491d-49a7-9714-68f154cb83c7",
   "metadata": {},
   "outputs": [],
   "source": [
    "train_df_tensor_x = torch.tensor(list(map(lambda x: sequence_to_index(x, word_to_ix), train_df_input['sentence'])))\n",
    "train_df_tensor_y = torch.tensor(train_df_input['label'])\n",
    "\n",
    "test_df_tensor_x = torch.tensor(list(map(lambda x: sequence_to_index(x, word_to_ix), test_df_input['sentence'])))\n",
    "test_df_tensor_y = torch.tensor(train_df_input.index)"
   ]
  },
  {
   "cell_type": "code",
   "execution_count": 403,
   "id": "4b2a1881-3e91-4a16-ae65-9349767217a0",
   "metadata": {},
   "outputs": [
    {
     "name": "stdout",
     "output_type": "stream",
     "text": [
      "2000\n",
      "1600\n",
      "400\n",
      "400\n",
      "2000\n"
     ]
    }
   ],
   "source": [
    "from torch.utils.data import TensorDataset \n",
    "from torch.utils.data import DataLoader\n",
    "from torch.utils.data import random_split\n",
    "\n",
    "total_train_dataset = TensorDataset(train_df_tensor_x, train_df_tensor_y)\n",
    "test_dataset = TensorDataset(test_df_tensor_x, test_df_tensor_y) #this label is fake.for data in testloader:\n",
    "\n",
    "train_dataset, validation_dataset = random_split(total_train_dataset, [int(len(total_train_dataset)*0.8), len(total_train_dataset)-int(len(total_train_dataset)*0.8)])\n",
    "train_loader = DataLoader(train_dataset, batch_size=32, shuffle=True, drop_last=True)\n",
    "validation_loader = DataLoader(validation_dataset, batch_size=32, shuffle=True, drop_last=True)\n",
    "test_loader = DataLoader(test_dataset, batch_size=32)\n",
    "\n",
    "\n",
    "print(len(total_train_dataset))\n",
    "print(len(train_dataset))\n",
    "print(len(validation_dataset))\n",
    "print(len(validation_dataset))\n",
    "print(len(test_dataset))"
   ]
  },
  {
   "cell_type": "markdown",
   "id": "34781fc1-c43e-4085-a2a6-b63c5ad0261c",
   "metadata": {
    "tags": []
   },
   "source": [
    "# Module for training"
   ]
  },
  {
   "cell_type": "code",
   "execution_count": 404,
   "id": "0a7cccbc-6e86-4379-b0c6-7f76b636fec3",
   "metadata": {},
   "outputs": [],
   "source": [
    "def binary_accuracy(preds, y):\n",
    "    \"\"\"\n",
    "    Returns accuracy per batch, i.e. if you get 8/10 right, this returns 0.8, NOT 8\n",
    "    \"\"\"\n",
    "\n",
    "    #round predictions to the closest integer\n",
    "    #rounded_preds = torch.round(torch.sigmoid(preds))\n",
    "    predicted = torch.argmax(preds, dim=1)\n",
    "    correct = (predicted == y).float() #convert into float for division \n",
    "    acc = correct.sum() / len(correct)\n",
    "    return acc"
   ]
  },
  {
   "cell_type": "code",
   "execution_count": 405,
   "id": "c4a39c8d-0f1c-4c68-81d3-714284d6e423",
   "metadata": {},
   "outputs": [],
   "source": [
    "# to measure the running time\n",
    "import time"
   ]
  },
  {
   "cell_type": "markdown",
   "id": "0ee19b8e-c79f-4efa-a126-f927c6a2da12",
   "metadata": {
    "tags": []
   },
   "source": [
    "# CNN with pretraining"
   ]
  },
  {
   "cell_type": "markdown",
   "id": "3a7aa82a-542b-4b79-8bb4-0d29db1a2e29",
   "metadata": {},
   "source": [
    "Ref :\n",
    "- https://wikidocs.net/80437\n",
    "- https://wikidocs.net/80783\n",
    "- https://sanghyu.tistory.com/24\n",
    "- https://pytorch.org/docs/stable/generated/torch.nn.Conv1d.html\n",
    "- https://pytorch.org/docs/stable/generated/torch.nn.MaxPool1d.html"
   ]
  },
  {
   "cell_type": "code",
   "execution_count": 406,
   "id": "873f211f-c1e4-4765-a8a2-4aeca5d6758c",
   "metadata": {},
   "outputs": [
    {
     "name": "stdout",
     "output_type": "stream",
     "text": [
      "torch.Size([32, 50, 1, 98])\n"
     ]
    }
   ],
   "source": [
    "m = nn.Conv1d(1, 50, (200, 3)) # in_channel x out_channel x (kernel_size, embed_size)\n",
    "input = torch.randn(32, 1, 200, 100) # batch(#sentence) x in_channel x max_num_word x embed_size\n",
    "output = m(input) # batch x out_channel x 1 x L_out (the changed embeded_size)\n",
    "print(output.size())"
   ]
  },
  {
   "cell_type": "code",
   "execution_count": 407,
   "id": "32d03eb8-9239-4e1d-b456-ee6f8c76c853",
   "metadata": {},
   "outputs": [
    {
     "data": {
      "text/plain": [
       "torch.Size([32, 2, 198])"
      ]
     },
     "execution_count": 407,
     "metadata": {},
     "output_type": "execute_result"
    }
   ],
   "source": [
    "m = nn.Conv1d(100, 2, 3) #embed_size x num_filter x kernel_size \n",
    "# in_channel x out_channel x (kernel_size, embed_size)\n",
    "input = torch.randn(32, 100, 200) # batch(#sentence) x embed_size x max_num_word\n",
    "output = m(input) # batch x num_filter x L_out (the changed embeded_size)\n",
    "output.size()"
   ]
  },
  {
   "cell_type": "code",
   "execution_count": 408,
   "id": "578bd723-7061-421a-8d4d-5484435e782d",
   "metadata": {},
   "outputs": [
    {
     "name": "stdout",
     "output_type": "stream",
     "text": [
      "torch.Size([32, 2, 1])\n"
     ]
    }
   ],
   "source": [
    "m = nn.MaxPool1d(198)\n",
    "input = torch.randn(32, 2, 198) # batch_size x num_filter x out_channel\n",
    "output = m(input)\n",
    "print(output.size()) # batch_size x num_filter x max_pool_out_channel"
   ]
  },
  {
   "cell_type": "code",
   "execution_count": 409,
   "id": "0dad9e84-a78b-4719-a50d-088865ddc73f",
   "metadata": {},
   "outputs": [],
   "source": [
    "class CNN(nn.Module):\n",
    "    def __init__(self, batch_size, voca_size, embed_size, pad_index, hidden_unit, drop_rate=0.3, kernel_size=3, num_filter=100, n_class=2):\n",
    "        super(CNN, self).__init__()\n",
    "        self.batch_size = batch_size\n",
    "        self.pad_index = pad_index  # padding token\n",
    "        self.embed_size = embed_size            # 임베딩 차원의 크기\n",
    "        self.hidden_unit = hidden_unit           # 히든 레이어 갯수\n",
    "        self.drop_rate = drop_rate              \n",
    "        self.num_filter = num_filter            # 필터의 갯수 \n",
    "        self.kernel_size = kernel_size          # 필터 사이즈\n",
    "        self.n_class = n_class\n",
    "        \n",
    "        self.word_embeddings = nn.Embedding(\n",
    "            num_embeddings=voca_size, embedding_dim=embed_size, padding_idx=self.pad_index\n",
    "        )\n",
    "        \n",
    "        # kernel size = (n-gram, embed_size)\n",
    "        # 커널의 열(column)의 크기는 embed_size와 일치하므로, 단어 임베딩 벡터를 모두 커버한다\n",
    "        # 따라서, n의 row 크기를 갖는 커널은 한번에 n개의 단어를 커버하는 n-gram 커널이라고 볼 수 있다.\n",
    "        self.conv1d = nn.Conv1d(embed_size, self.num_filter, self.kernel_size)\n",
    "        self.lin = nn.Linear(num_filter, n_class)\n",
    "\n",
    "        \n",
    "    def forward(self, x):\n",
    "        # x : batch_size x max_length\n",
    "        \n",
    "        embed = self.word_embeddings(x) \n",
    "        # embed : batch_size x max_length x embed_size\n",
    "        embed = torch.reshape(embed, (self.batch_size, self.embed_size, -1))\n",
    "        conv_out = self.conv1d(embed)\n",
    "        # conv_out : batch_size x num_filter x the_changed_embedded_size\n",
    "        #print(\"conv_out\", conv_out.size())\n",
    "        pool_out = F.max_pool1d(kernel_size= conv_out.size(2), input= conv_out)\n",
    "        #print(\"pool_out\", pool_out.size()) \n",
    "        # pool_out : batch_size x num_filter x 1\n",
    "        pool_out = torch.reshape(pool_out, (self.batch_size, self.num_filter))\n",
    "        out = self.lin(pool_out)\n",
    "\n",
    "        return out"
   ]
  },
  {
   "cell_type": "code",
   "execution_count": 410,
   "id": "d3aec254-2654-49aa-ae53-61c35eebb769",
   "metadata": {},
   "outputs": [],
   "source": [
    "params = {\n",
    "    'batch_size' : 32,\n",
    "    'voca_size' : len(word_to_ix),        # 고유한 단어 토큰의 갯수\n",
    "    'embed_size' : 100,                # 임베딩 차원의 크기\n",
    "    'pad_index' : word_to_ix['<pad>'],  # 패딩 토큰\n",
    "    'hidden_unit' : 50,                  # 히든 레이어 갯수 #???\n",
    "    'drop_rate' : 0.1, \n",
    "    'kernel_size' : 3,    \n",
    "    'num_filter' : 2,                 # 각 사이즈 별 커널 갯수 (원문에서는 100을 사용)\n",
    "    'n_class' : 2,                  # 카테고리 갯수\n",
    "}"
   ]
  },
  {
   "cell_type": "code",
   "execution_count": 411,
   "id": "618e6d51-2883-4106-9633-5c83a50d9116",
   "metadata": {},
   "outputs": [],
   "source": [
    "device = torch.device('cuda:0' if torch.cuda.is_available() else 'cpu')\n",
    "model_CNN = CNN(**params)\n",
    "model_CNN.word_embeddings.weight.data = torch.FloatTensor(embedding_matrix)\n",
    "model_CNN.word_embeddings.weight.requires_grad = False #embedding weights are fixed. (not updated)\n",
    "loss_function = nn.BCEWithLogitsLoss()\n",
    "optimizer = optim.SGD(model_CNN.parameters(), lr=0.1)"
   ]
  },
  {
   "cell_type": "code",
   "execution_count": 412,
   "id": "159a80c2-1e78-4fb5-848a-b881ce7f2d6a",
   "metadata": {},
   "outputs": [
    {
     "name": "stdout",
     "output_type": "stream",
     "text": [
      "[00/40] \t loss: 0.0219399252\t val_error: 0.0208654608\t val_accuracy :   0.497396\n",
      "[01/40] \t loss: 0.0216661705\t val_error: 0.0208066747\t val_accuracy :   0.494792\n",
      "[02/40] \t loss: 0.0216181434\t val_error: 0.0207550569\t val_accuracy :   0.536458\n",
      "[03/40] \t loss: 0.0216053389\t val_error: 0.0207850355\t val_accuracy :   0.526042\n",
      "[04/40] \t loss: 0.0215792892\t val_error: 0.0207598098\t val_accuracy :   0.531250\n",
      "[05/40] \t loss: 0.0215664021\t val_error: 0.0207841271\t val_accuracy :   0.520833\n",
      "[06/40] \t loss: 0.0215496726\t val_error: 0.0207839257\t val_accuracy :   0.497396\n",
      "[07/40] \t loss: 0.0215232535\t val_error: 0.0207806194\t val_accuracy :   0.500000\n",
      "[08/40] \t loss: 0.0215222172\t val_error: 0.0207745741\t val_accuracy :   0.528646\n",
      "[09/40] \t loss: 0.0215144881\t val_error: 0.0207859096\t val_accuracy :   0.500000\n",
      "[10/40] \t loss: 0.0214916774\t val_error: 0.0207974188\t val_accuracy :   0.510417\n",
      "[11/40] \t loss: 0.0214807842\t val_error: 0.0208273701\t val_accuracy :   0.507812\n",
      "[12/40] \t loss: 0.0214430046\t val_error: 0.0208298871\t val_accuracy :   0.473958\n",
      "[13/40] \t loss: 0.0214235264\t val_error: 0.0207751918\t val_accuracy :   0.544271\n",
      "[14/40] \t loss: 0.0214294273\t val_error: 0.0207513201\t val_accuracy :   0.549479\n",
      "[15/40] \t loss: 0.0214132809\t val_error: 0.0207715368\t val_accuracy :   0.533854\n",
      "[16/40] \t loss: 0.0213980721\t val_error: 0.0208038281\t val_accuracy :   0.523438\n",
      "[17/40] \t loss: 0.0213831700\t val_error: 0.0207626262\t val_accuracy :   0.539062\n",
      "[18/40] \t loss: 0.0213634024\t val_error: 0.0208435547\t val_accuracy :   0.476562\n",
      "[19/40] \t loss: 0.0213501328\t val_error: 0.0207673138\t val_accuracy :   0.533854\n",
      "[20/40] \t loss: 0.0213026295\t val_error: 0.0208662832\t val_accuracy :   0.460938\n",
      "[21/40] \t loss: 0.0212991619\t val_error: 0.0208043478\t val_accuracy :   0.528646\n",
      "[22/40] \t loss: 0.0212738167\t val_error: 0.0208247751\t val_accuracy :   0.492188\n",
      "[23/40] \t loss: 0.0212476603\t val_error: 0.0207689807\t val_accuracy :   0.533854\n",
      "[24/40] \t loss: 0.0212214306\t val_error: 0.0207816333\t val_accuracy :   0.544271\n",
      "[25/40] \t loss: 0.0212066754\t val_error: 0.0208775978\t val_accuracy :   0.484375\n",
      "[26/40] \t loss: 0.0211721255\t val_error: 0.0208130535\t val_accuracy :   0.546875\n",
      "[27/40] \t loss: 0.0211535408\t val_error: 0.0208179837\t val_accuracy :   0.502604\n",
      "[28/40] \t loss: 0.0211187569\t val_error: 0.0208113335\t val_accuracy :   0.515625\n",
      "[29/40] \t loss: 0.0211035389\t val_error: 0.0208618921\t val_accuracy :   0.526042\n",
      "[30/40] \t loss: 0.0210484162\t val_error: 0.0209484601\t val_accuracy :   0.489583\n",
      "[31/40] \t loss: 0.0210279903\t val_error: 0.0208659112\t val_accuracy :   0.510417\n",
      "[32/40] \t loss: 0.0209474713\t val_error: 0.0209115475\t val_accuracy :   0.489583\n",
      "[33/40] \t loss: 0.0209824014\t val_error: 0.0208715288\t val_accuracy :   0.505208\n",
      "[34/40] \t loss: 0.0209159746\t val_error: 0.0207566881\t val_accuracy :   0.544271\n",
      "[35/40] \t loss: 0.0208865812\t val_error: 0.0208445019\t val_accuracy :   0.526042\n",
      "[36/40] \t loss: 0.0208704704\t val_error: 0.0208238566\t val_accuracy :   0.541667\n",
      "[37/40] \t loss: 0.0208078093\t val_error: 0.0208708863\t val_accuracy :   0.546875\n",
      "[38/40] \t loss: 0.0207403699\t val_error: 0.0207479197\t val_accuracy :   0.541667\n",
      "[39/40] \t loss: 0.0207030797\t val_error: 0.0208745182\t val_accuracy :   0.539062\n",
      "total running time:  8.27096700668335\n"
     ]
    }
   ],
   "source": [
    "#CPU\n",
    "total_time_start = time.time()\n",
    "\n",
    "total_epoch = 40\n",
    "total_train_loss= np.array([])\n",
    "total_train_accuracy= np.array([])\n",
    "total_val_loss=np.array([])\n",
    "total_val_accuracy= np.array([])\n",
    "\n",
    "#start_word_embeddingstime=time.time()\n",
    "for epoch in range(total_epoch) :\n",
    "    epoch_train_loss=0\n",
    "    epoch_train_accuracy=np.array([])\n",
    "    epoch_val_loss=0\n",
    "    epoch_val_accuracy=np.array([])\n",
    "\n",
    "    \n",
    "    # train\n",
    "    model_CNN.train()\n",
    "    for batch_idx, batch in enumerate(train_loader) :\n",
    "        optimizer.zero_grad() # to clear gradient #cf. model.zero_grad()\n",
    "        x_train, label = batch\n",
    "        #print(x_train.size())\n",
    "        predicted_y = model_CNN(x_train).type(torch.FloatTensor)\n",
    "        label_onehot = F.one_hot(label, num_classes=2).type(torch.FloatTensor)\n",
    "        #print(predicted_y)    \n",
    "        #print(label)\n",
    "        loss = loss_function(predicted_y, label_onehot) # compute the loss\n",
    "        loss.backward() # compute the gradients\n",
    "        optimizer.step() # update the parameters\n",
    "        epoch_train_loss += loss.item()\n",
    "        acc = binary_accuracy(predicted_y, label) # to measure accuracy\n",
    "        epoch_train_accuracy = np.append(epoch_train_accuracy, [acc])\n",
    "        \n",
    "    # validation\n",
    "    model_CNN.eval()\n",
    "    total_val_error=0\n",
    "    for batch_idx, batch in enumerate(validation_loader) :\n",
    "        optimizer.zero_grad() # to clear gradient #cf. model.zero_grad()\n",
    "        x_train, label = batch\n",
    "        predicted_y = model_CNN(x_train).type(torch.FloatTensor)\n",
    "        label_onehot = F.one_hot(label, num_classes=2).type(torch.FloatTensor)\n",
    "        loss = loss_function(predicted_y, label_onehot) # compute the loss\n",
    "        epoch_val_loss += loss.item()   \n",
    "        acc = binary_accuracy(predicted_y, label) # to measure accuracy\n",
    "        epoch_val_accuracy = np.append(epoch_val_accuracy, [acc])\n",
    "    \n",
    "    \n",
    "    total_train_loss = np.append(total_train_loss, [epoch_train_loss/len(train_loader.dataset)])\n",
    "    total_train_accuracy= np.append(total_train_accuracy, [sum(epoch_train_accuracy)/len(epoch_train_accuracy)])\n",
    "    total_val_loss = np.append(total_val_loss, [epoch_val_loss/len(validation_loader.dataset)])\n",
    "    total_val_accuracy = np.append(total_val_accuracy, [sum(epoch_val_accuracy)/len(epoch_val_accuracy)])\n",
    "    \n",
    "    print(\"[{:02d}/{:02d}] \\t loss: {:.10f}\\t val_error: {:.10f}\\t val_accuracy : {:10f}\".format(epoch, total_epoch, epoch_train_loss / len(train_loader.dataset), epoch_val_loss / len(validation_loader.dataset), sum(epoch_val_accuracy)/len(epoch_val_accuracy)))\n",
    "\n",
    "total_time_end = time.time()\n",
    "print(\"total running time: \", total_time_end - total_time_start)"
   ]
  },
  {
   "cell_type": "code",
   "execution_count": 413,
   "id": "bcf2b027-c435-4bd6-8f45-aca53d93b94b",
   "metadata": {},
   "outputs": [
    {
     "data": {
      "image/png": "[encoded data removed]",
      "text/plain": [
       "<Figure size 1440x720 with 4 Axes>"
      ]
     },
     "metadata": {
      "needs_background": "light"
     },
     "output_type": "display_data"
    }
   ],
   "source": [
    "import matplotlib.pyplot as plt\n",
    "figure = plt.figure(figsize=(20,10))\n",
    "ax1 = figure.add_subplot(2, 2, 1)\n",
    "ax2 = figure.add_subplot(2, 2, 2)\n",
    "ax3 = figure.add_subplot(2, 2, 3)\n",
    "ax4 = figure.add_subplot(2, 2, 4)\n",
    "\n",
    "plt.title('LSTM with pretraining')\n",
    "ax1.plot(total_train_loss)\n",
    "ax1.set_title('train loss')\n",
    "ax2.plot(total_val_loss)\n",
    "ax2.set_title('validation loss')\n",
    "ax3.plot(total_train_accuracy)\n",
    "ax3.set_title('train accuracy')\n",
    "ax4.plot(total_val_accuracy)\n",
    "ax4.set_title('validation accuracy')\n",
    "plt.show()\n"
   ]
  },
  {
   "cell_type": "markdown",
   "id": "82a263a9-a437-41ef-9503-7527500135fe",
   "metadata": {},
   "source": [
    "# CNN without pretraining"
   ]
  },
  {
   "cell_type": "code",
   "execution_count": 414,
   "id": "043f02b6-9cc8-431a-97f4-d13a1de76967",
   "metadata": {},
   "outputs": [],
   "source": [
    "device = torch.device('cuda:0' if torch.cuda.is_available() else 'cpu')\n",
    "model_CNN_withoutPretraining = CNN(**params)\n",
    "model_CNN_withoutPretraining.word_embeddings.weight.requires_grad = True #embedding weights are fixed. (not updated)\n",
    "loss_function = nn.BCEWithLogitsLoss()\n",
    "optimizer = optim.SGD(model_CNN_withoutPretraining.parameters(), lr=0.1)"
   ]
  },
  {
   "cell_type": "code",
   "execution_count": 415,
   "id": "d28ac322-3193-4af3-a3e7-bd75b40f35f3",
   "metadata": {},
   "outputs": [
    {
     "name": "stdout",
     "output_type": "stream",
     "text": [
      "[00/40] \t loss: 0.0224772106\t val_error: 0.0207691771\t val_accuracy :   0.513021\n",
      "[01/40] \t loss: 0.0216949090\t val_error: 0.0207638896\t val_accuracy :   0.518229\n",
      "[02/40] \t loss: 0.0216878074\t val_error: 0.0207844830\t val_accuracy :   0.507812\n",
      "[03/40] \t loss: 0.0216820397\t val_error: 0.0207927173\t val_accuracy :   0.507812\n",
      "[04/40] \t loss: 0.0216721569\t val_error: 0.0208014692\t val_accuracy :   0.505208\n",
      "[05/40] \t loss: 0.0216764040\t val_error: 0.0207843956\t val_accuracy :   0.507812\n",
      "[06/40] \t loss: 0.0216463618\t val_error: 0.0207735142\t val_accuracy :   0.515625\n",
      "[07/40] \t loss: 0.0216543081\t val_error: 0.0207825869\t val_accuracy :   0.523438\n",
      "[08/40] \t loss: 0.0216249303\t val_error: 0.0207628675\t val_accuracy :   0.518229\n",
      "[09/40] \t loss: 0.0216806368\t val_error: 0.0207730876\t val_accuracy :   0.515625\n",
      "[10/40] \t loss: 0.0216326911\t val_error: 0.0209944838\t val_accuracy :   0.492188\n",
      "[11/40] \t loss: 0.0216462272\t val_error: 0.0207739969\t val_accuracy :   0.523438\n",
      "[12/40] \t loss: 0.0215950850\t val_error: 0.0208418277\t val_accuracy :   0.497396\n",
      "[13/40] \t loss: 0.0216529102\t val_error: 0.0207690810\t val_accuracy :   0.505208\n",
      "[14/40] \t loss: 0.0216080170\t val_error: 0.0207804979\t val_accuracy :   0.518229\n",
      "[15/40] \t loss: 0.0216269775\t val_error: 0.0207312693\t val_accuracy :   0.546875\n",
      "[16/40] \t loss: 0.0216023415\t val_error: 0.0208891611\t val_accuracy :   0.489583\n",
      "[17/40] \t loss: 0.0215406695\t val_error: 0.0207903188\t val_accuracy :   0.507812\n",
      "[18/40] \t loss: 0.0216260893\t val_error: 0.0207244001\t val_accuracy :   0.520833\n",
      "[19/40] \t loss: 0.0215405735\t val_error: 0.0207251184\t val_accuracy :   0.518229\n",
      "[20/40] \t loss: 0.0215912486\t val_error: 0.0221962059\t val_accuracy :   0.494792\n",
      "[21/40] \t loss: 0.0216095645\t val_error: 0.0207256727\t val_accuracy :   0.520833\n",
      "[22/40] \t loss: 0.0215294287\t val_error: 0.0207851246\t val_accuracy :   0.526042\n",
      "[23/40] \t loss: 0.0215793841\t val_error: 0.0210847884\t val_accuracy :   0.489583\n",
      "[24/40] \t loss: 0.0215895198\t val_error: 0.0208479537\t val_accuracy :   0.484375\n",
      "[25/40] \t loss: 0.0214464119\t val_error: 0.0208047637\t val_accuracy :   0.505208\n",
      "[26/40] \t loss: 0.0215446262\t val_error: 0.0207373314\t val_accuracy :   0.533854\n",
      "[27/40] \t loss: 0.0215659108\t val_error: 0.0207257655\t val_accuracy :   0.505208\n",
      "[28/40] \t loss: 0.0214673843\t val_error: 0.0207730313\t val_accuracy :   0.515625\n",
      "[29/40] \t loss: 0.0215045097\t val_error: 0.0213215180\t val_accuracy :   0.515625\n",
      "[30/40] \t loss: 0.0216690721\t val_error: 0.0208591193\t val_accuracy :   0.531250\n",
      "[31/40] \t loss: 0.0214513242\t val_error: 0.0207439077\t val_accuracy :   0.520833\n",
      "[32/40] \t loss: 0.0213830541\t val_error: 0.0216440344\t val_accuracy :   0.489583\n",
      "[33/40] \t loss: 0.0213561445\t val_error: 0.0207630508\t val_accuracy :   0.528646\n",
      "[34/40] \t loss: 0.0213437410\t val_error: 0.0220168497\t val_accuracy :   0.471354\n",
      "[35/40] \t loss: 0.0214802791\t val_error: 0.0207061821\t val_accuracy :   0.518229\n",
      "[36/40] \t loss: 0.0213054646\t val_error: 0.0208559009\t val_accuracy :   0.513021\n",
      "[37/40] \t loss: 0.0216503934\t val_error: 0.0207670701\t val_accuracy :   0.502604\n",
      "[38/40] \t loss: 0.0214483579\t val_error: 0.0208172332\t val_accuracy :   0.515625\n",
      "[39/40] \t loss: 0.0215400202\t val_error: 0.0210772987\t val_accuracy :   0.507812\n",
      "total running time:  26.882636547088623\n"
     ]
    }
   ],
   "source": [
    "#CPU\n",
    "total_time_start = time.time()\n",
    "\n",
    "total_epoch = 40\n",
    "total_train_loss= np.array([])\n",
    "total_train_accuracy= np.array([])\n",
    "total_val_loss=np.array([])\n",
    "total_val_accuracy= np.array([])\n",
    "\n",
    "#start_word_embeddingstime=time.time()\n",
    "for epoch in range(total_epoch) :\n",
    "    epoch_train_loss=0\n",
    "    epoch_train_accuracy=np.array([])\n",
    "    epoch_val_loss=0\n",
    "    epoch_val_accuracy=np.array([])\n",
    "\n",
    "    \n",
    "    # train\n",
    "    model_CNN_withoutPretraining.train()\n",
    "    for batch_idx, batch in enumerate(train_loader) :\n",
    "        optimizer.zero_grad() # to clear gradient #cf. model.zero_grad()\n",
    "        x_train, label = batch\n",
    "        #print(x_train.size())\n",
    "        predicted_y = model_CNN_withoutPretraining(x_train).type(torch.FloatTensor)\n",
    "        label_onehot = F.one_hot(label, num_classes=2).type(torch.FloatTensor)\n",
    "        #print(predicted_y)    \n",
    "        #print(label)\n",
    "        loss = loss_function(predicted_y, label_onehot) # compute the loss\n",
    "        loss.backward() # compute the gradients\n",
    "        optimizer.step() # update the parameters\n",
    "        epoch_train_loss += loss.item()\n",
    "        acc = binary_accuracy(predicted_y, label) # to measure accuracy\n",
    "        epoch_train_accuracy = np.append(epoch_train_accuracy, [acc])\n",
    "        \n",
    "    # validation\n",
    "    model_CNN_withoutPretraining.eval()\n",
    "    total_val_error=0\n",
    "    for batch_idx, batch in enumerate(validation_loader) :\n",
    "        optimizer.zero_grad() # to clear gradient #cf. model.zero_grad()\n",
    "        x_train, label = batch\n",
    "        predicted_y = model_CNN_withoutPretraining(x_train).type(torch.FloatTensor)\n",
    "        label_onehot = F.one_hot(label, num_classes=2).type(torch.FloatTensor)\n",
    "        loss = loss_function(predicted_y, label_onehot) # compute the loss\n",
    "        epoch_val_loss += loss.item()   \n",
    "        acc = binary_accuracy(predicted_y, label) # to measure accuracy\n",
    "        epoch_val_accuracy = np.append(epoch_val_accuracy, [acc])\n",
    "    \n",
    "    \n",
    "    total_train_loss = np.append(total_train_loss, [epoch_train_loss/len(train_loader.dataset)])\n",
    "    total_train_accuracy= np.append(total_train_accuracy, [sum(epoch_train_accuracy)/len(epoch_train_accuracy)])\n",
    "    total_val_loss = np.append(total_val_loss, [epoch_val_loss/len(validation_loader.dataset)])\n",
    "    total_val_accuracy = np.append(total_val_accuracy, [sum(epoch_val_accuracy)/len(epoch_val_accuracy)])\n",
    "    \n",
    "    print(\"[{:02d}/{:02d}] \\t loss: {:.10f}\\t val_error: {:.10f}\\t val_accuracy : {:10f}\".format(epoch, total_epoch, epoch_train_loss / len(train_loader.dataset), epoch_val_loss / len(validation_loader.dataset), sum(epoch_val_accuracy)/len(epoch_val_accuracy)))\n",
    "\n",
    "total_time_end = time.time()\n",
    "print(\"total running time: \", total_time_end - total_time_start)"
   ]
  },
  {
   "cell_type": "code",
   "execution_count": 416,
   "id": "f745265e-883c-45d0-a093-b54810617e31",
   "metadata": {},
   "outputs": [
    {
     "data": {
      "image/png": "[encoded data removed]",
      "text/plain": [
       "<Figure size 1440x720 with 4 Axes>"
      ]
     },
     "metadata": {
      "needs_background": "light"
     },
     "output_type": "display_data"
    }
   ],
   "source": [
    "import matplotlib.pyplot as plt\n",
    "figure = plt.figure(figsize=(20,10))\n",
    "ax1 = figure.add_subplot(2, 2, 1)\n",
    "ax2 = figure.add_subplot(2, 2, 2)\n",
    "ax3 = figure.add_subplot(2, 2, 3)\n",
    "ax4 = figure.add_subplot(2, 2, 4)\n",
    "\n",
    "plt.title('LSTM with pretraining')\n",
    "ax1.plot(total_train_loss)\n",
    "ax1.set_title('train loss')\n",
    "ax2.plot(total_val_loss)\n",
    "ax2.set_title('validation loss')\n",
    "ax3.plot(total_train_accuracy)\n",
    "ax3.set_title('train accuracy')\n",
    "ax4.plot(total_val_accuracy)\n",
    "ax4.set_title('validation accuracy')\n",
    "plt.show()\n"
   ]
  },
  {
   "cell_type": "markdown",
   "id": "7903bf48-88e3-4bb6-ae56-094e270559a5",
   "metadata": {
    "tags": []
   },
   "source": [
    "# RNN with pretraining"
   ]
  },
  {
   "cell_type": "code",
   "execution_count": 417,
   "id": "c7d5485c-8798-46a3-b6de-de593324d744",
   "metadata": {},
   "outputs": [],
   "source": [
    "import torch\n",
    "import torch.nn as nn\n",
    "import torch.nn.functional as F\n",
    "import torch.optim as optim\n",
    "\n",
    "class RNN_net_pretrain(nn.Module):\n",
    "    def __init__(self, embedding_dim, hidden_dim, sentence_length, batch_size=32, num_layers=1, label_size=2):\n",
    "        super(RNN_net_pretrain, self).__init__()\n",
    "        self.pad_index = word_to_ix['<pad>']\n",
    "        self.word_embeddings = nn.Embedding(embedding_dim, hidden_dim, padding_idx=self.pad_index)\n",
    "        self.embedding_dim = embedding_dim\n",
    "        self.hidden_dim = hidden_dim\n",
    "        self.sentence_length = sentence_length\n",
    "        self.batch_size = batch_size\n",
    "        self.num_layers = num_layers\n",
    "        #[sequence length, batch size, embedding_dim (input_size)]\n",
    "        self.rnn = nn.RNN(input_size=embedding_dim, hidden_size=self.hidden_dim, num_layers=self.num_layers, batch_first=True)\n",
    "        \n",
    "        # The linear layer that maps from hidden state space to label space\n",
    "        self.hidden2label = nn.Linear(self.sentence_length*self.hidden_dim, label_size)\n",
    "\n",
    "    def forward(self, sentence):\n",
    "        #print(\"sentence size\", sentence.size())\n",
    "        embeds = self.word_embeddings(sentence)\n",
    "        #print(\"embed size\", embeds.size())\n",
    "        #print(embeds.view(self.batch_size, len(sentence), self.embedding_dim).size())\n",
    "        hidden = torch.randn(self.num_layers, self.batch_size, self.hidden_dim)\n",
    "        #print(\"hidden\", hidden.size())\n",
    "        # input : [batch_size, sequence_length, embedding_dim (input_size)]\n",
    "        # hidden : [num_layers, batch_size, hidden_size]\n",
    "        out, hidden = self.rnn(embeds, hidden) #2nd output is the final hidden state\n",
    "        #out, hidden = self.rnn(embeds.view(self.batch_size,embeds.size(1), self.embedding_dim), hidden) #2nd output is the final hidden state\n",
    "        #print(out[-2,:,:].size(), out[-1,:,:].size())\n",
    "        #out = torch.cat((out[1], out[2]), dim=1)\n",
    "        #out = out.view(out.size(0), 1, out.size(1)*out.size(2))\n",
    "        out = torch.reshape(out, (out.size(0), 1, out.size(1)*out.size(2)))\n",
    "        #print(\"out.size:\", out.size())\n",
    "        label_space = self.hidden2label(out)\n",
    "        #return(label_space.flatten())\n",
    "        \n",
    "        #print(\"label_space:\", label_space.size())\n",
    "        #label_scores = F.log_softmax(label_space, dim=1)\n",
    "        #label_scores = F.sigmoid(label_space)\n",
    "        #label_scores = torch.reshape(label_scores, (-1,2))\n",
    "        #print(label_scores.size())\n",
    "        label_scores = torch.reshape(label_space, (-1,2))\n",
    "        return label_scores\n",
    "        #return label_scores.flatten(start_dim=1)\n",
    "        #print(\"label_scores:\", label_scores.size())\n",
    "        #return torch.argmax(label_scores)"
   ]
  },
  {
   "cell_type": "code",
   "execution_count": 440,
   "id": "941d69d0-7e02-492b-8378-6fa7ffc47cbf",
   "metadata": {},
   "outputs": [],
   "source": [
    "class LSTM_net(nn.Module):\n",
    "    def __init__(self, embedding_dim, hidden_dim, sentence_length, batch_size=32, num_layers=7, label_size=2):\n",
    "        super(LSTM_net, self).__init__()\n",
    "        self.pad_index = word_to_ix['<pad>']\n",
    "        self.word_embeddings = nn.Embedding(embedding_dim, hidden_dim, padding_idx=self.pad_index).to(device)\n",
    "        self.embedding_dim = embedding_dim\n",
    "        self.hidden_dim = hidden_dim\n",
    "        self.sentence_length = sentence_length\n",
    "        self.batch_size = batch_size\n",
    "        self.num_layers = num_layers\n",
    "        #[sequence length, batch size, embedding_dim (input_size)]\n",
    "        self.lstm = nn.LSTM(input_size=embedding_dim, hidden_size=self.hidden_dim, num_layers=self.num_layers, batch_first=True)\n",
    "        \n",
    "        # The linear layer that maps from hidden state space to label space\n",
    "        self.hidden2label = nn.Linear(self.sentence_length*self.hidden_dim, label_size)\n",
    "\n",
    "    def forward(self, sentence):\n",
    "        embeds = self.word_embeddings(sentence.to(device))\n",
    "        #print(embeds.view(self.batch_size, len(sentence), self.embedding_dim).size())\n",
    "        h0 = torch.randn(self.num_layers, self.batch_size, self.hidden_dim).to(device)\n",
    "        c0 = torch.randn(self.num_layers, self.batch_size, self.hidden_dim).to(device)\n",
    "        #print(\"hidden\", hidden.size())\n",
    "        # input : [batch_size, sequence_length, embedding_dim (input_size)]\n",
    "        # hidden : [num_layers, batch_size, hidden_size]\n",
    "        out, out_hidden = self.lstm(embeds, (h0,c0)) #2nd output is the final hidden state\n",
    "        out = torch.reshape(out, (out.size(0), 1, out.size(1)*out.size(2)))\n",
    "        #print(\"out.size:\", out.size())\n",
    "        label_space = self.hidden2label(out)\n",
    "        #return(label_space.flatten())\n",
    "        \n",
    "        #print(\"label_space:\", label_space.size())\n",
    "        #label_scores = F.log_softmax(label_space, dim=1)\n",
    "        #label_scores = F.sigmoid(label_space)\n",
    "        #label_scores = torch.reshape(label_scores, (-1,2))\n",
    "        #print(label_scores.size())\n",
    "        label_scores = torch.reshape(label_space, (-1,2))\n",
    "        return label_scores\n",
    "        #return label_scores.flatten(start_dim=1)\n",
    "        #print(\"label_scores:\", label_scores.size())\n",
    "        #return torch.argmax(label_scores)"
   ]
  },
  {
   "cell_type": "code",
   "execution_count": 441,
   "id": "72392e97-f1d4-422b-83e0-2e482e854e74",
   "metadata": {},
   "outputs": [],
   "source": [
    "# device = torch.device('cuda:0' if torch.cuda.is_available() else 'cpu')\n",
    "# model_RNN = LSTM_net(100, 300, 1000, batch_size=32)\n",
    "# model_RNN.word_embeddings.weight.data = torch.FloatTensor(embedding_matrix)\n",
    "# model_RNN.word_embeddings.weight.requires_grad = False #embedding weights are fixed. (not updated)\n",
    "# loss_function = nn.BCEWithLogitsLoss()\n",
    "# optimizer = optim.SGD(model_RNN.parameters(), lr=0.1)\n"
   ]
  },
  {
   "cell_type": "code",
   "execution_count": 446,
   "id": "22dd67d0-5fe5-433c-9f07-ed8b4bf60678",
   "metadata": {},
   "outputs": [],
   "source": [
    "device = torch.device('cuda:0' if torch.cuda.is_available() else 'cpu')\n",
    "model_RNN_gpu = LSTM_net(100, 300, 1000, batch_size=32).to(device)\n",
    "model_RNN_gpu.word_embeddings.weight.data = torch.FloatTensor(embedding_matrix).to(device)\n",
    "model_RNN_gpu.word_embeddings.weight.requires_grad = False #embedding weights are fixed. (not updated)\n",
    "loss_function = nn.BCEWithLogitsLoss()\n",
    "optimizer = optim.SGD(model_RNN_gpu.parameters(), lr=0.1)\n"
   ]
  },
  {
   "cell_type": "code",
   "execution_count": 447,
   "id": "0970c45c-a483-4c1f-a9d8-1eeccba34c2d",
   "metadata": {},
   "outputs": [],
   "source": [
    "# #CPU\n",
    "# total_time_start = time.time()\n",
    "\n",
    "# total_epoch = 100\n",
    "# total_train_loss= np.array([])\n",
    "# total_train_accuracy= np.array([])\n",
    "# total_val_loss=np.array([])\n",
    "# total_val_accuracy= np.array([])\n",
    "\n",
    "# #start_word_embeddingstime=time.time()\n",
    "# for epoch in range(total_epoch) :\n",
    "#     epoch_train_loss=0\n",
    "#     epoch_train_accuracy=np.array([])\n",
    "#     epoch_val_loss=0\n",
    "#     epoch_val_accuracy=np.array([])\n",
    "\n",
    "    \n",
    "#     # train\n",
    "#     model_RNN.train()\n",
    "#     for batch_idx, batch in enumerate(train_loader) :\n",
    "#         optimizer.zero_grad() # to clear gradient #cf. model.zero_grad()\n",
    "#         x_train, label = batch\n",
    "#         #print(x_train.size())\n",
    "#         predicted_y = model_RNN(x_train).type(torch.FloatTensor)\n",
    "#         label_onehot = F.one_hot(label, num_classes=2).type(torch.FloatTensor)\n",
    "#         #print(predicted_y)    \n",
    "#         #print(label)\n",
    "#         loss = loss_function(predicted_y, label_onehot) # compute the loss\n",
    "#         loss.backward() # compute the gradients\n",
    "#         optimizer.step() # update the parameters\n",
    "#         epoch_train_loss += loss.item()\n",
    "#         acc = binary_accuracy(predicted_y, label) # to measure accuracy\n",
    "#         epoch_train_accuracy = np.append(epoch_train_accuracy, [acc])\n",
    "        \n",
    "#     # validation\n",
    "#     model_RNN.eval()\n",
    "#     total_val_error=0\n",
    "#     for batch_idx, batch in enumerate(validation_loader) :\n",
    "#         optimizer.zero_grad() # to clear gradient #cf. model.zero_grad()\n",
    "#         x_train, label = batch\n",
    "#         predicted_y = model_RNN(x_train).type(torch.FloatTensor)\n",
    "#         label_onehot = F.one_hot(label, num_classes=2).type(torch.FloatTensor)\n",
    "#         loss = loss_function(predicted_y, label_onehot) # compute the loss\n",
    "#         epoch_val_loss += loss.item()   \n",
    "#         acc = binary_accuracy(predicted_y, label) # to measure accuracy\n",
    "#         epoch_val_accuracy = np.append(epoch_val_accuracy, [acc])\n",
    "    \n",
    "#     total_train_loss = np.append(total_train_loss, [epoch_train_loss/len(train_loader.dataset)])\n",
    "#     total_train_accuracy= np.append(total_train_accuracy, [sum(epoch_train_accuracy)/len(epoch_train_accuracy)])\n",
    "#     total_val_loss = np.append(total_val_loss, [epoch_val_loss/len(validation_loader.dataset)])\n",
    "#     total_val_accuracy = np.append(total_val_accuracy, [sum(epoch_val_accuracy)/len(epoch_val_accuracy)])\n",
    "    \n",
    "#     print(\"[{:02d}/{:02d}] \\t loss: {:.10f}\\t val_error: {:.10f}\\t val_accuracy : {:10f}\".format(epoch, total_epoch, epoch_train_loss / len(train_loader.dataset), epoch_val_loss / len(validation_loader.dataset), sum(epoch_val_accuracy)/len(epoch_val_accuracy)))\n",
    "    \n",
    "# total_time_end = time.time()\n",
    "# print(\"total running time: \", total_time_end - total_time_start)"
   ]
  },
  {
   "cell_type": "code",
   "execution_count": 462,
   "id": "bd876537-881d-4727-a136-aa696e247c8b",
   "metadata": {},
   "outputs": [
    {
     "name": "stdout",
     "output_type": "stream",
     "text": [
      "[00/100] \t loss: 0.0217550174\t val_error: 0.0209977221\t val_accuracy :   0.466146\n",
      "[01/100] \t loss: 0.0217528928\t val_error: 0.0207561427\t val_accuracy :   0.541667\n",
      "[02/100] \t loss: 0.0217072032\t val_error: 0.0208958587\t val_accuracy :   0.460938\n",
      "[03/100] \t loss: 0.0216928694\t val_error: 0.0207500450\t val_accuracy :   0.513021\n",
      "[04/100] \t loss: 0.0217670039\t val_error: 0.0205499831\t val_accuracy :   0.572917\n",
      "[05/100] \t loss: 0.0217572761\t val_error: 0.0208937526\t val_accuracy :   0.479167\n",
      "[06/100] \t loss: 0.0216639087\t val_error: 0.0207959388\t val_accuracy :   0.510417\n",
      "[07/100] \t loss: 0.0216214464\t val_error: 0.0208272682\t val_accuracy :   0.502604\n",
      "[08/100] \t loss: 0.0217884298\t val_error: 0.0207942465\t val_accuracy :   0.510417\n",
      "[09/100] \t loss: 0.0217902565\t val_error: 0.0207017130\t val_accuracy :   0.533854\n",
      "[10/100] \t loss: 0.0217103751\t val_error: 0.0209117019\t val_accuracy :   0.518229\n",
      "[11/100] \t loss: 0.0217853710\t val_error: 0.0208831576\t val_accuracy :   0.489583\n",
      "[12/100] \t loss: 0.0217660429\t val_error: 0.0209491621\t val_accuracy :   0.484375\n",
      "[13/100] \t loss: 0.0217004860\t val_error: 0.0208281769\t val_accuracy :   0.510417\n",
      "[14/100] \t loss: 0.0217425122\t val_error: 0.0209447385\t val_accuracy :   0.500000\n",
      "[15/100] \t loss: 0.0217632119\t val_error: 0.0208546765\t val_accuracy :   0.489583\n",
      "[16/100] \t loss: 0.0217411966\t val_error: 0.0208373621\t val_accuracy :   0.510417\n",
      "[17/100] \t loss: 0.0217513429\t val_error: 0.0208531451\t val_accuracy :   0.510417\n",
      "[18/100] \t loss: 0.0217195299\t val_error: 0.0207483755\t val_accuracy :   0.502604\n",
      "[19/100] \t loss: 0.0217117314\t val_error: 0.0209291136\t val_accuracy :   0.468750\n"
     ]
    },
    {
     "ename": "KeyboardInterrupt",
     "evalue": "",
     "output_type": "error",
     "traceback": [
      "\u001b[0;31m---------------------------------------------------------------------------\u001b[0m",
      "\u001b[0;31mKeyboardInterrupt\u001b[0m                         Traceback (most recent call last)",
      "\u001b[0;32m/tmp/ipykernel_94804/3639727141.py\u001b[0m in \u001b[0;36m<module>\u001b[0;34m\u001b[0m\n\u001b[1;32m     30\u001b[0m         \u001b[0;31m#print(label)\u001b[0m\u001b[0;34m\u001b[0m\u001b[0;34m\u001b[0m\u001b[0m\n\u001b[1;32m     31\u001b[0m         \u001b[0mloss\u001b[0m \u001b[0;34m=\u001b[0m \u001b[0mloss_function\u001b[0m\u001b[0;34m(\u001b[0m\u001b[0mpredicted_y\u001b[0m\u001b[0;34m,\u001b[0m \u001b[0mlabel_onehot\u001b[0m\u001b[0;34m)\u001b[0m \u001b[0;31m# compute the loss\u001b[0m\u001b[0;34m\u001b[0m\u001b[0;34m\u001b[0m\u001b[0m\n\u001b[0;32m---> 32\u001b[0;31m         \u001b[0mloss\u001b[0m\u001b[0;34m.\u001b[0m\u001b[0mbackward\u001b[0m\u001b[0;34m(\u001b[0m\u001b[0;34m)\u001b[0m \u001b[0;31m# compute the gradients\u001b[0m\u001b[0;34m\u001b[0m\u001b[0;34m\u001b[0m\u001b[0m\n\u001b[0m\u001b[1;32m     33\u001b[0m         \u001b[0moptimizer\u001b[0m\u001b[0;34m.\u001b[0m\u001b[0mstep\u001b[0m\u001b[0;34m(\u001b[0m\u001b[0;34m)\u001b[0m \u001b[0;31m# update the parameters\u001b[0m\u001b[0;34m\u001b[0m\u001b[0;34m\u001b[0m\u001b[0m\n\u001b[1;32m     34\u001b[0m         \u001b[0mepoch_train_loss\u001b[0m \u001b[0;34m+=\u001b[0m \u001b[0mloss\u001b[0m\u001b[0;34m.\u001b[0m\u001b[0mitem\u001b[0m\u001b[0;34m(\u001b[0m\u001b[0;34m)\u001b[0m\u001b[0;34m\u001b[0m\u001b[0;34m\u001b[0m\u001b[0m\n",
      "\u001b[0;32m/opt/anaconda3/lib/python3.9/site-packages/torch/_tensor.py\u001b[0m in \u001b[0;36mbackward\u001b[0;34m(self, gradient, retain_graph, create_graph, inputs)\u001b[0m\n\u001b[1;32m    305\u001b[0m                 \u001b[0mcreate_graph\u001b[0m\u001b[0;34m=\u001b[0m\u001b[0mcreate_graph\u001b[0m\u001b[0;34m,\u001b[0m\u001b[0;34m\u001b[0m\u001b[0;34m\u001b[0m\u001b[0m\n\u001b[1;32m    306\u001b[0m                 inputs=inputs)\n\u001b[0;32m--> 307\u001b[0;31m         \u001b[0mtorch\u001b[0m\u001b[0;34m.\u001b[0m\u001b[0mautograd\u001b[0m\u001b[0;34m.\u001b[0m\u001b[0mbackward\u001b[0m\u001b[0;34m(\u001b[0m\u001b[0mself\u001b[0m\u001b[0;34m,\u001b[0m \u001b[0mgradient\u001b[0m\u001b[0;34m,\u001b[0m \u001b[0mretain_graph\u001b[0m\u001b[0;34m,\u001b[0m \u001b[0mcreate_graph\u001b[0m\u001b[0;34m,\u001b[0m \u001b[0minputs\u001b[0m\u001b[0;34m=\u001b[0m\u001b[0minputs\u001b[0m\u001b[0;34m)\u001b[0m\u001b[0;34m\u001b[0m\u001b[0;34m\u001b[0m\u001b[0m\n\u001b[0m\u001b[1;32m    308\u001b[0m \u001b[0;34m\u001b[0m\u001b[0m\n\u001b[1;32m    309\u001b[0m     \u001b[0;32mdef\u001b[0m \u001b[0mregister_hook\u001b[0m\u001b[0;34m(\u001b[0m\u001b[0mself\u001b[0m\u001b[0;34m,\u001b[0m \u001b[0mhook\u001b[0m\u001b[0;34m)\u001b[0m\u001b[0;34m:\u001b[0m\u001b[0;34m\u001b[0m\u001b[0;34m\u001b[0m\u001b[0m\n",
      "\u001b[0;32m/opt/anaconda3/lib/python3.9/site-packages/torch/autograd/__init__.py\u001b[0m in \u001b[0;36mbackward\u001b[0;34m(tensors, grad_tensors, retain_graph, create_graph, grad_variables, inputs)\u001b[0m\n\u001b[1;32m    152\u001b[0m         \u001b[0mretain_graph\u001b[0m \u001b[0;34m=\u001b[0m \u001b[0mcreate_graph\u001b[0m\u001b[0;34m\u001b[0m\u001b[0;34m\u001b[0m\u001b[0m\n\u001b[1;32m    153\u001b[0m \u001b[0;34m\u001b[0m\u001b[0m\n\u001b[0;32m--> 154\u001b[0;31m     Variable._execution_engine.run_backward(\n\u001b[0m\u001b[1;32m    155\u001b[0m         \u001b[0mtensors\u001b[0m\u001b[0;34m,\u001b[0m \u001b[0mgrad_tensors_\u001b[0m\u001b[0;34m,\u001b[0m \u001b[0mretain_graph\u001b[0m\u001b[0;34m,\u001b[0m \u001b[0mcreate_graph\u001b[0m\u001b[0;34m,\u001b[0m \u001b[0minputs\u001b[0m\u001b[0;34m,\u001b[0m\u001b[0;34m\u001b[0m\u001b[0;34m\u001b[0m\u001b[0m\n\u001b[1;32m    156\u001b[0m         allow_unreachable=True, accumulate_grad=True)  # allow_unreachable flag\n",
      "\u001b[0;31mKeyboardInterrupt\u001b[0m: "
     ]
    }
   ],
   "source": [
    "#GPU\n",
    "total_time_start = time.time()\n",
    "\n",
    "total_epoch = 100\n",
    "total_train_loss= np.array([])\n",
    "total_train_accuracy= np.array([])\n",
    "total_val_loss=np.array([])\n",
    "total_val_accuracy= np.array([])\n",
    "\n",
    "model_RNN = model_RNN_gpu\n",
    "#start_word_embeddingstime=time.time()\n",
    "for epoch in range(total_epoch) :\n",
    "    epoch_train_loss=0\n",
    "    epoch_train_accuracy=np.array([])\n",
    "    epoch_val_loss=0\n",
    "    epoch_val_accuracy=np.array([])\n",
    "\n",
    "    \n",
    "    # train\n",
    "    model_RNN.train()\n",
    "    for batch_idx, batch in enumerate(train_loader) :\n",
    "        optimizer.zero_grad() # to clear gradient #cf. model.zero_grad()\n",
    "        x_train, label = batch\n",
    "        x_train, label = x_train.to(device), label.to(device)\n",
    "        #print(x_train.size())\n",
    "        predicted_y = model_RNN(x_train).type(torch.FloatTensor)\n",
    "        #print(predicted_y.device) #cpu\n",
    "        label_onehot = F.one_hot(label, num_classes=2).type(torch.FloatTensor)\n",
    "        #print(predicted_y)    \n",
    "        #print(label)\n",
    "        loss = loss_function(predicted_y, label_onehot) # compute the loss\n",
    "        loss.backward() # compute the gradients\n",
    "        optimizer.step() # update the parameters\n",
    "        epoch_train_loss += loss.item()\n",
    "        acc = binary_accuracy(predicted_y, label.to('cpu')) # to measure accuracy\n",
    "        epoch_train_accuracy = np.append(epoch_train_accuracy, [acc])\n",
    "        \n",
    "    # validation\n",
    "    model_RNN.eval()\n",
    "    total_val_error=0\n",
    "    for batch_idx, batch in enumerate(validation_loader) :\n",
    "        optimizer.zero_grad() # to clear gradient #cf. model.zero_grad()\n",
    "        x_train, label = batch\n",
    "        x_train, label = x_train.to(device), label.to(device)\n",
    "        predicted_y = model_RNN(x_train.to(device)).type(torch.FloatTensor)\n",
    "        label_onehot = F.one_hot(label, num_classes=2).type(torch.FloatTensor)\n",
    "        loss = loss_function(predicted_y.to('cpu'), label_onehot.to('cpu')) # compute the loss\n",
    "        epoch_val_loss += loss.item()   \n",
    "        acc = binary_accuracy(predicted_y, label.to('cpu')) # to measure accuracy\n",
    "        epoch_val_accuracy = np.append(epoch_val_accuracy, [acc])\n",
    "    \n",
    "    total_train_loss = np.append(total_train_loss, [epoch_train_loss/len(train_loader.dataset)])\n",
    "    total_train_accuracy= np.append(total_train_accuracy, [sum(epoch_train_accuracy)/len(epoch_train_accuracy)])\n",
    "    total_val_loss = np.append(total_val_loss, [epoch_val_loss/len(validation_loader.dataset)])\n",
    "    total_val_accuracy = np.append(total_val_accuracy, [sum(epoch_val_accuracy)/len(epoch_val_accuracy)])\n",
    "    \n",
    "    print(\"[{:02d}/{:02d}] \\t loss: {:.10f}\\t val_error: {:.10f}\\t val_accuracy : {:10f}\".format(epoch, total_epoch, epoch_train_loss / len(train_loader.dataset), epoch_val_loss / len(validation_loader.dataset), sum(epoch_val_accuracy)/len(epoch_val_accuracy)))\n",
    "    \n",
    "total_time_end = time.time()\n",
    "print(\"total running time: \", total_time_end - total_time_start)"
   ]
  },
  {
   "cell_type": "code",
   "execution_count": null,
   "id": "8994f3c0-63de-4985-ab36-508f10846a86",
   "metadata": {},
   "outputs": [],
   "source": [
    "import matplotlib.pyplot as plt\n",
    "figure = plt.figure(figsize=(20,10))\n",
    "ax1 = figure.add_subplot(2, 2, 1)\n",
    "ax2 = figure.add_subplot(2, 2, 2)\n",
    "ax3 = figure.add_subplot(2, 2, 3)\n",
    "ax4 = figure.add_subplot(2, 2, 4)\n",
    "\n",
    "plt.title('LSTM with pretraining')\n",
    "ax1.plot(total_train_loss)\n",
    "ax1.set_title('train loss')\n",
    "ax2.plot(total_val_loss)\n",
    "ax2.set_title('validation loss')\n",
    "ax3.plot(total_train_accuracy)\n",
    "ax3.set_title('train accuracy')\n",
    "ax4.plot(total_val_accuracy)\n",
    "ax4.set_title('validation accuracy')\n",
    "plt.show()\n"
   ]
  },
  {
   "cell_type": "code",
   "execution_count": null,
   "id": "0559124b-5a00-4e90-a8bf-f6e2e17e1021",
   "metadata": {},
   "outputs": [],
   "source": [
    "# Disable grad\n",
    "batch_size = 32\n",
    "\n",
    "total_prediction = np.array([], dtype=np.int64)\n",
    "total_prediction_index = np.array([], dtype=np.int64)\n",
    "with torch.no_grad():\n",
    "    for index, batch in enumerate(test_loader):\n",
    "        x_test, x_index = batch\n",
    "        #print(x_test)\n",
    "        #print(x_test.size())\n",
    "        \n",
    "        # for last incomplete batch,\n",
    "        if (x_test.size(0) < batch_size) :\n",
    "            num_padding = batch_size - x_test.size(0)\n",
    "            print(\"the last incomplete padding : \", num_padding)\n",
    "            padding = torch.zeros(num_padding, max_length)\n",
    "            x_test = torch.cat((x_test, padding), dim=0)\n",
    "        pred = model_RNN(x_test.type(torch.int))\n",
    "        #print(torch.argmax(pred, dim=1))\n",
    "        array = torch.argmax(pred, dim=1).numpy()\n",
    "        array_index = x_index.numpy()\n",
    "        #print(array.dtype)\n",
    "        if index == 0:\n",
    "            total_prediction = array\n",
    "            total_prediction_index = array_index\n",
    "        else:\n",
    "            total_prediction = np.concatenate((total_prediction, array), axis=0)\n",
    "            total_prediction_index = np.concatenate((total_prediction_index, array_index), axis=0)\n",
    "            #print(total_prediction)\n",
    "\n",
    "total_prediction=total_prediction[0:2000]\n",
    "total_prediction_index=total_prediction_index[0:2000]\n",
    "print(total_prediction.shape)\n",
    "print(total_prediction_index.shape)"
   ]
  },
  {
   "cell_type": "code",
   "execution_count": null,
   "id": "0debea6c-dc1b-47fb-b9d4-078eca0914b2",
   "metadata": {},
   "outputs": [],
   "source": [
    "# write csv file\n",
    "import csv\n",
    "\n",
    "header = ['id', 'sentiment']\n",
    "\n",
    "f = open('/home/jihun/python/predict.csv', 'w') # open the file in the write mode\n",
    "writer = csv.writer(f) # create the csv writer\n",
    "writer.writerow(header) # write a row to the csv file\n",
    "\n",
    "for k in range(2000):\n",
    "    row = [total_prediction_index[k], total_prediction[k]]\n",
    "    writer.writerow(row)\n",
    "f.close() # close the file\n"
   ]
  },
  {
   "cell_type": "markdown",
   "id": "23152215-4aee-47db-bb22-31867869d0b6",
   "metadata": {},
   "source": [
    "# RNN without pretraining"
   ]
  },
  {
   "cell_type": "code",
   "execution_count": null,
   "id": "18572b3f-b186-4c1f-ab61-f0ce731d5932",
   "metadata": {},
   "outputs": [],
   "source": [
    "model_RNN_noPre.word_embeddings.weight"
   ]
  },
  {
   "cell_type": "code",
   "execution_count": null,
   "id": "f44ff62b-54b4-4295-be92-d393594e9390",
   "metadata": {},
   "outputs": [],
   "source": [
    "device = torch.device('cuda:0' if torch.cuda.is_available() else 'cpu')\n",
    "model_RNN_noPre = LSTM_net(100, 100, 200, batch_size=32)\n",
    "model_RNN_noPre.word_embeddings.weight.data = torch.FloatTensor(torch.rand(embedding_matrix.shape[0],embedding_matrix.shape[1]))\n",
    "model_RNN_noPre.word_embeddings.weight.requires_grad = True #embedding weights are fixed. (not updated)\n",
    "loss_function = nn.BCEWithLogitsLoss()\n",
    "optimizer = optim.SGD(model_RNN_noPre.parameters(), lr=0.1)"
   ]
  },
  {
   "cell_type": "code",
   "execution_count": null,
   "id": "34f3b98c-0eff-428e-83e5-63cd346b5429",
   "metadata": {},
   "outputs": [],
   "source": [
    "#CPU\n",
    "total_time_start = time.time()\n",
    "\n",
    "total_epoch = 100\n",
    "total_train_loss= np.array([])\n",
    "total_train_accuracy= np.array([])\n",
    "total_val_loss=np.array([])\n",
    "total_val_accuracy= np.array([])\n",
    "\n",
    "#start_word_embeddingstime=time.time()\n",
    "for epoch in range(total_epoch) :\n",
    "    epoch_train_loss=0\n",
    "    epoch_train_accuracy=np.array([])\n",
    "    epoch_val_loss=0\n",
    "    epoch_val_accuracy=np.array([])\n",
    "\n",
    "    \n",
    "    # train\n",
    "    model_RNN_noPre.train()\n",
    "    for batch_idx, batch in enumerate(train_loader) :\n",
    "        optimizer.zero_grad() # to clear gradient #cf. model.zero_grad()\n",
    "        x_train, label = batch\n",
    "        #print(x_train.size())\n",
    "        predicted_y = model_RNN_noPre(x_train).type(torch.FloatTensor)\n",
    "        label_onehot = F.one_hot(label, num_classes=2).type(torch.FloatTensor)\n",
    "        #print(predicted_y)    \n",
    "        #print(label)\n",
    "        loss = loss_function(predicted_y, label_onehot) # compute the loss\n",
    "        loss.backward() # compute the gradients\n",
    "        optimizer.step() # update the parameters\n",
    "        epoch_train_loss += loss.item()\n",
    "        acc = binary_accuracy(predicted_y, label) # to measure accuracy\n",
    "        epoch_train_accuracy = np.append(epoch_train_accuracy, [acc])\n",
    "        \n",
    "    # validation\n",
    "    model_RNN_noPre.eval()\n",
    "    total_val_error=0\n",
    "    for batch_idx, batch in enumerate(validation_loader) :\n",
    "        optimizer.zero_grad() # to clear gradient #cf. model.zero_grad()\n",
    "        x_train, label = batch\n",
    "        predicted_y = model_RNN_noPre(x_train).type(torch.FloatTensor)\n",
    "        label_onehot = F.one_hot(label, num_classes=2).type(torch.FloatTensor)\n",
    "        loss = loss_function(predicted_y, label_onehot) # compute the loss\n",
    "        epoch_val_loss += loss.item()   \n",
    "        acc = binary_accuracy(predicted_y, label) # to measure accuracy\n",
    "        epoch_val_accuracy = np.append(epoch_val_accuracy, [acc])\n",
    "    \n",
    "    total_train_loss = np.append(total_train_loss, [epoch_train_loss/len(train_loader.dataset)])\n",
    "    total_train_accuracy= np.append(total_train_accuracy, [sum(epoch_train_accuracy)/len(epoch_train_accuracy)])\n",
    "    total_val_loss = np.append(total_val_loss, [epoch_val_loss/len(validation_loader.dataset)])\n",
    "    total_val_accuracy = np.append(total_val_accuracy, [sum(epoch_val_accuracy)/len(epoch_val_accuracy)])\n",
    "    \n",
    "    print(\"[{:02d}/{:02d}] \\t loss: {:.10f}\\t val_error: {:.10f}\\t val_accuracy : {:10f}\".format(epoch, total_epoch, epoch_train_loss / len(train_loader.dataset), epoch_val_loss / len(validation_loader.dataset), sum(epoch_val_accuracy)/len(epoch_val_accuracy)))\n",
    "    \n",
    "total_time_end = time.time()\n",
    "print(\"total running time: \", total_time_end - total_time_start)"
   ]
  },
  {
   "cell_type": "code",
   "execution_count": null,
   "id": "f17d174c-b9c6-4a89-81eb-02be362c3c8b",
   "metadata": {},
   "outputs": [],
   "source": [
    "import matplotlib.pyplot as plt\n",
    "figure = plt.figure(figsize=(20,10))\n",
    "ax1 = figure.add_subplot(2, 2, 1)\n",
    "ax2 = figure.add_subplot(2, 2, 2)\n",
    "ax3 = figure.add_subplot(2, 2, 3)\n",
    "ax4 = figure.add_subplot(2, 2, 4)\n",
    "\n",
    "plt.title('LSTM with pretraining')\n",
    "ax1.plot(total_train_loss)\n",
    "ax1.set_title('train loss')\n",
    "ax2.plot(total_val_loss)\n",
    "ax2.set_title('validation loss')\n",
    "ax3.plot(total_train_accuracy)\n",
    "ax3.set_title('train accuracy')\n",
    "ax4.plot(total_val_accuracy)\n",
    "ax4.set_title('validation accuracy')\n",
    "plt.show()\n"
   ]
  },
  {
   "cell_type": "code",
   "execution_count": null,
   "id": "c4bae6c5-6656-445e-a016-a5a923f3c2cf",
   "metadata": {},
   "outputs": [],
   "source": []
  }
 ],
 "metadata": {
  "kernelspec": {
   "display_name": "Python 3 (ipykernel)",
   "language": "python",
   "name": "python3"
  },
  "language_info": {
   "codemirror_mode": {
    "name": "ipython",
    "version": 3
   },
   "file_extension": ".py",
   "mimetype": "text/x-python",
   "name": "python",
   "nbconvert_exporter": "python",
   "pygments_lexer": "ipython3",
   "version": "3.9.7"
  }
 },
 "nbformat": 4,
 "nbformat_minor": 5
}
